{
  "cells": [
    {
      "cell_type": "code",
      "execution_count": null,
      "metadata": {
        "id": "xrZQvroY2B5Z"
      },
      "outputs": [],
      "source": [
        "%matplotlib inline\n",
        "from google.colab import files\n",
        "import os\n",
        "\n",
        "# TensorFlow and tf.keras\n",
        "import tensorflow as tf\n",
        "from tensorflow import keras\n",
        "from keras.models import Sequential\n",
        "from keras.layers.convolutional import Conv2D, MaxPooling2D\n",
        "from keras.layers import Dense, Flatten, Dropout\n",
        "# Helper libraries\n",
        "import numpy as np\n",
        "import matplotlib.pyplot as plt\n",
        "import cv2\n",
        "import pandas as pd\n",
        "\n",
        "# Sklearn\n",
        "from sklearn.model_selection import train_test_split # Helps with organizing data for training\n",
        "from sklearn.metrics import confusion_matrix # Helps present results as a confusion-matrix\n",
        "import pickle\n",
        "import onnx\n",
        "\n",
        "print(tf.__version__)"
      ]
    },
    {
      "cell_type": "code",
      "execution_count": null,
      "metadata": {
        "id": "85MVQbzk5vZ3"
      },
      "outputs": [],
      "source": [
        "with open('X_test.pkl', 'rb') as file:\n",
        "    X_test = pickle.load(file)\n",
        "\n",
        "with open('y_test.pkl', 'rb') as file:\n",
        "    y_test = pickle.load(file)\n",
        "\n",
        "with open('X_train.pkl', 'rb') as file:\n",
        "    X_train = pickle.load(file)\n",
        "\n",
        "with open('y_train.pkl', 'rb') as file:\n",
        "    y_train = pickle.load(file)\n"
      ]
    },
    {
      "cell_type": "code",
      "execution_count": null,
      "metadata": {
        "id": "hVsGdH-v7Adt"
      },
      "outputs": [],
      "source": [
        "model = Sequential()\n",
        "model.add(Conv2D(32, (5, 5), activation='relu', input_shape=(96, 96, 1))) \n",
        "model.add(MaxPooling2D((2, 2)))\n",
        "model.add(Dropout(0.2))\n",
        "model.add(Conv2D(64, (3, 3), activation='relu')) \n",
        "model.add(MaxPooling2D((2, 2)))\n",
        "model.add(Dropout(0.2))\n",
        "model.add(Conv2D(64, (3, 3), activation='relu'))\n",
        "model.add(MaxPooling2D((2, 2)))\n",
        "model.add(Flatten())\n",
        "model.add(Dense(128, activation='relu'))\n",
        "model.add(Dense(6, activation='softmax'))"
      ]
    },
    {
      "cell_type": "code",
      "execution_count": null,
      "metadata": {
        "id": "Yc73uy1n7Imi"
      },
      "outputs": [],
      "source": [
        "# Configures the model for training\n",
        "model.compile(optimizer='adam', # Optimization routine, which tells the computer how to adjust the parameter values to minimize the loss function.\n",
        "              loss='sparse_categorical_crossentropy', # Loss function, which tells us how bad our predictions are.\n",
        "              metrics=['accuracy']) # List of metrics to be evaluated by the model during training and testing."
      ]
    },
    {
      "cell_type": "code",
      "execution_count": null,
      "metadata": {
        "colab": {
          "base_uri": "https://localhost:8080/"
        },
        "id": "b7Ws0V4O7KuI",
        "outputId": "dcd6bc19-b15e-4063-cdd1-b93b6f73e486"
      },
      "outputs": [
        {
          "name": "stdout",
          "output_type": "stream",
          "text": [
            "Model: \"sequential_1\"\n",
            "_________________________________________________________________\n",
            " Layer (type)                Output Shape              Param #   \n",
            "=================================================================\n",
            " conv2d_3 (Conv2D)           (None, 92, 92, 32)        832       \n",
            "                                                                 \n",
            " max_pooling2d_3 (MaxPooling  (None, 46, 46, 32)       0         \n",
            " 2D)                                                             \n",
            "                                                                 \n",
            " dropout_2 (Dropout)         (None, 46, 46, 32)        0         \n",
            "                                                                 \n",
            " conv2d_4 (Conv2D)           (None, 44, 44, 64)        18496     \n",
            "                                                                 \n",
            " max_pooling2d_4 (MaxPooling  (None, 22, 22, 64)       0         \n",
            " 2D)                                                             \n",
            "                                                                 \n",
            " dropout_3 (Dropout)         (None, 22, 22, 64)        0         \n",
            "                                                                 \n",
            " conv2d_5 (Conv2D)           (None, 20, 20, 64)        36928     \n",
            "                                                                 \n",
            " max_pooling2d_5 (MaxPooling  (None, 10, 10, 64)       0         \n",
            " 2D)                                                             \n",
            "                                                                 \n",
            " flatten_1 (Flatten)         (None, 6400)              0         \n",
            "                                                                 \n",
            " dense_2 (Dense)             (None, 128)               819328    \n",
            "                                                                 \n",
            " dense_3 (Dense)             (None, 6)                 774       \n",
            "                                                                 \n",
            "=================================================================\n",
            "Total params: 876,358\n",
            "Trainable params: 876,358\n",
            "Non-trainable params: 0\n",
            "_________________________________________________________________\n"
          ]
        }
      ],
      "source": [
        "model.summary()"
      ]
    },
    {
      "cell_type": "code",
      "execution_count": null,
      "metadata": {
        "colab": {
          "base_uri": "https://localhost:8080/"
        },
        "id": "lGr6Mcni7NZD",
        "outputId": "3e432712-8af7-43f3-c860-f8f00019f42f"
      },
      "outputs": [
        {
          "name": "stdout",
          "output_type": "stream",
          "text": [
            "Epoch 1/5\n",
            "132/132 [==============================] - 90s 675ms/step - loss: 3.0592 - accuracy: 0.6982 - val_loss: 0.0253 - val_accuracy: 0.9948\n",
            "Epoch 2/5\n",
            "132/132 [==============================] - 85s 642ms/step - loss: 0.0127 - accuracy: 0.9963 - val_loss: 0.0043 - val_accuracy: 0.9988\n",
            "Epoch 3/5\n",
            "132/132 [==============================] - 84s 635ms/step - loss: 0.0039 - accuracy: 0.9986 - val_loss: 0.0012 - val_accuracy: 1.0000\n",
            "Epoch 4/5\n",
            "132/132 [==============================] - 84s 634ms/step - loss: 0.0056 - accuracy: 0.9986 - val_loss: 0.0012 - val_accuracy: 1.0000\n",
            "Epoch 5/5\n",
            "132/132 [==============================] - 84s 634ms/step - loss: 0.0035 - accuracy: 0.9988 - val_loss: 4.5812e-04 - val_accuracy: 1.0000\n"
          ]
        }
      ],
      "source": [
        "# Trains the model for a given number of epochs (iterations on a dataset) and validates it.\n",
        "history=model.fit(X_train, y_train, epochs=5, batch_size=64, verbose=1, validation_data=(X_test, y_test))"
      ]
    },
    {
      "cell_type": "code",
      "execution_count": null,
      "metadata": {
        "id": "lwDljIhY7ORG"
      },
      "outputs": [],
      "source": [
        "model.save('handrecognition_model.h5')"
      ]
    },
    {
      "cell_type": "code",
      "execution_count": null,
      "metadata": {
        "colab": {
          "base_uri": "https://localhost:8080/"
        },
        "id": "iijdpxmm91F7",
        "outputId": "b9e98aed-6ffb-4a8f-e1b6-9d17b4531246"
      },
      "outputs": [
        {
          "name": "stderr",
          "output_type": "stream",
          "text": [
            "WARNING:absl:Found untraced functions such as _jit_compiled_convolution_op, _jit_compiled_convolution_op, _jit_compiled_convolution_op while saving (showing 3 of 3). These functions will not be directly callable after loading.\n"
          ]
        }
      ],
      "source": [
        "model = tf.keras.models.load_model(\"/content/handrecognition_model.h5\")\n",
        "tf.saved_model.save(model, \"tmp_model\")"
      ]
    },
    {
      "cell_type": "code",
      "execution_count": null,
      "metadata": {
        "colab": {
          "base_uri": "https://localhost:8080/"
        },
        "id": "iU6CRy0E7WZU",
        "outputId": "6be66f91-3324-4fc9-dc62-e9be2857a4aa"
      },
      "outputs": [
        {
          "name": "stdout",
          "output_type": "stream",
          "text": [
            "/usr/lib/python3.7/runpy.py:125: RuntimeWarning: 'tf2onnx.convert' found in sys.modules after import of package 'tf2onnx', but prior to execution of 'tf2onnx.convert'; this may result in unpredictable behaviour\n",
            "  warn(RuntimeWarning(msg))\n",
            "2022-11-14 11:47:49,871 - WARNING - '--tag' not specified for saved_model. Using --tag serve\n",
            "2022-11-14 11:47:50,313 - INFO - Signatures found in model: [serving_default].\n",
            "2022-11-14 11:47:50,313 - WARNING - '--signature_def' not specified, using first signature: serving_default\n",
            "2022-11-14 11:47:50,313 - INFO - Output names: ['dense_1']\n",
            "2022-11-14 11:47:50,504 - INFO - Using tensorflow=2.9.2, onnx=1.12.0, tf2onnx=1.13.0/2c1db5\n",
            "2022-11-14 11:47:50,504 - INFO - Using opset <onnx, 13>\n",
            "2022-11-14 11:47:50,689 - INFO - Computed 0 values for constant folding\n",
            "2022-11-14 11:47:50,808 - INFO - Optimizing ONNX model\n",
            "2022-11-14 11:47:50,864 - INFO - After optimization: Cast -1 (1->0), Const +1 (11->12), Identity -2 (2->0), Reshape +1 (1->2), Transpose -11 (12->1)\n",
            "2022-11-14 11:47:50,870 - INFO - \n",
            "2022-11-14 11:47:50,871 - INFO - Successfully converted TensorFlow model tmp_model to ONNX\n",
            "2022-11-14 11:47:50,871 - INFO - Model inputs: ['conv2d_input']\n",
            "2022-11-14 11:47:50,871 - INFO - Model outputs: ['dense_1']\n",
            "2022-11-14 11:47:50,871 - INFO - ONNX model is saved at handrecognition_model.onnx\n"
          ]
        }
      ],
      "source": [
        "!python -m tf2onnx.convert --saved-model tmp_model --output \"handrecognition_model.onnx\""
      ]
    },
    {
      "cell_type": "code",
      "execution_count": null,
      "metadata": {
        "colab": {
          "base_uri": "https://localhost:8080/"
        },
        "id": "31NhKnQd7V21",
        "outputId": "be697116-e7c8-4e28-adfb-68cce82c2d37"
      },
      "outputs": [
        {
          "name": "stdout",
          "output_type": "stream",
          "text": [
            "  adding: content/tmp_model/ (stored 0%)\n",
            "  adding: content/tmp_model/variables/ (stored 0%)\n",
            "  adding: content/tmp_model/variables/variables.data-00000-of-00001 (deflated 6%)\n",
            "  adding: content/tmp_model/variables/variables.index (deflated 66%)\n",
            "  adding: content/tmp_model/assets/ (stored 0%)\n",
            "  adding: content/tmp_model/saved_model.pb (deflated 89%)\n"
          ]
        }
      ],
      "source": [
        "!zip -r /content/tmp_model.zip /content/tmp_model"
      ]
    },
    {
      "cell_type": "code",
      "execution_count": null,
      "metadata": {
        "colab": {
          "base_uri": "https://localhost:8080/",
          "height": 17
        },
        "id": "GEbimkHm9-qC",
        "outputId": "cdfaceca-0bf9-45cf-dadc-c13ee21cb80a"
      },
      "outputs": [
        {
          "data": {
            "application/javascript": "\n    async function download(id, filename, size) {\n      if (!google.colab.kernel.accessAllowed) {\n        return;\n      }\n      const div = document.createElement('div');\n      const label = document.createElement('label');\n      label.textContent = `Downloading \"${filename}\": `;\n      div.appendChild(label);\n      const progress = document.createElement('progress');\n      progress.max = size;\n      div.appendChild(progress);\n      document.body.appendChild(div);\n\n      const buffers = [];\n      let downloaded = 0;\n\n      const channel = await google.colab.kernel.comms.open(id);\n      // Send a message to notify the kernel that we're ready.\n      channel.send({})\n\n      for await (const message of channel.messages) {\n        // Send a message to notify the kernel that we're ready.\n        channel.send({})\n        if (message.buffers) {\n          for (const buffer of message.buffers) {\n            buffers.push(buffer);\n            downloaded += buffer.byteLength;\n            progress.value = downloaded;\n          }\n        }\n      }\n      const blob = new Blob(buffers, {type: 'application/binary'});\n      const a = document.createElement('a');\n      a.href = window.URL.createObjectURL(blob);\n      a.download = filename;\n      div.appendChild(a);\n      a.click();\n      div.remove();\n    }\n  ",
            "text/plain": [
              "<IPython.core.display.Javascript object>"
            ]
          },
          "metadata": {},
          "output_type": "display_data"
        },
        {
          "data": {
            "application/javascript": "download(\"download_877a514a-3b13-4d05-8105-a154caf625d0\", \"handrecognition_model.h5\", 10572632)",
            "text/plain": [
              "<IPython.core.display.Javascript object>"
            ]
          },
          "metadata": {},
          "output_type": "display_data"
        },
        {
          "data": {
            "application/javascript": "\n    async function download(id, filename, size) {\n      if (!google.colab.kernel.accessAllowed) {\n        return;\n      }\n      const div = document.createElement('div');\n      const label = document.createElement('label');\n      label.textContent = `Downloading \"${filename}\": `;\n      div.appendChild(label);\n      const progress = document.createElement('progress');\n      progress.max = size;\n      div.appendChild(progress);\n      document.body.appendChild(div);\n\n      const buffers = [];\n      let downloaded = 0;\n\n      const channel = await google.colab.kernel.comms.open(id);\n      // Send a message to notify the kernel that we're ready.\n      channel.send({})\n\n      for await (const message of channel.messages) {\n        // Send a message to notify the kernel that we're ready.\n        channel.send({})\n        if (message.buffers) {\n          for (const buffer of message.buffers) {\n            buffers.push(buffer);\n            downloaded += buffer.byteLength;\n            progress.value = downloaded;\n          }\n        }\n      }\n      const blob = new Blob(buffers, {type: 'application/binary'});\n      const a = document.createElement('a');\n      a.href = window.URL.createObjectURL(blob);\n      a.download = filename;\n      div.appendChild(a);\n      a.click();\n      div.remove();\n    }\n  ",
            "text/plain": [
              "<IPython.core.display.Javascript object>"
            ]
          },
          "metadata": {},
          "output_type": "display_data"
        },
        {
          "data": {
            "application/javascript": "download(\"download_5521db21-4fbf-489a-8b31-3c960ef2a110\", \"handrecognition_model.onnx\", 3510643)",
            "text/plain": [
              "<IPython.core.display.Javascript object>"
            ]
          },
          "metadata": {},
          "output_type": "display_data"
        },
        {
          "data": {
            "application/javascript": "\n    async function download(id, filename, size) {\n      if (!google.colab.kernel.accessAllowed) {\n        return;\n      }\n      const div = document.createElement('div');\n      const label = document.createElement('label');\n      label.textContent = `Downloading \"${filename}\": `;\n      div.appendChild(label);\n      const progress = document.createElement('progress');\n      progress.max = size;\n      div.appendChild(progress);\n      document.body.appendChild(div);\n\n      const buffers = [];\n      let downloaded = 0;\n\n      const channel = await google.colab.kernel.comms.open(id);\n      // Send a message to notify the kernel that we're ready.\n      channel.send({})\n\n      for await (const message of channel.messages) {\n        // Send a message to notify the kernel that we're ready.\n        channel.send({})\n        if (message.buffers) {\n          for (const buffer of message.buffers) {\n            buffers.push(buffer);\n            downloaded += buffer.byteLength;\n            progress.value = downloaded;\n          }\n        }\n      }\n      const blob = new Blob(buffers, {type: 'application/binary'});\n      const a = document.createElement('a');\n      a.href = window.URL.createObjectURL(blob);\n      a.download = filename;\n      div.appendChild(a);\n      a.click();\n      div.remove();\n    }\n  ",
            "text/plain": [
              "<IPython.core.display.Javascript object>"
            ]
          },
          "metadata": {},
          "output_type": "display_data"
        },
        {
          "data": {
            "application/javascript": "download(\"download_3a1c50a3-7057-4d5b-aac8-2846f29afb9b\", \"tmp_model.zip\", 9927989)",
            "text/plain": [
              "<IPython.core.display.Javascript object>"
            ]
          },
          "metadata": {},
          "output_type": "display_data"
        }
      ],
      "source": [
        "from google.colab import files\n",
        "files.download(\"/content/handrecognition_model.h5\")\n",
        "files.download(\"/content/handrecognition_model.onnx\")\n",
        "files.download(\"/content/tmp_model.zip\")"
      ]
    }
  ],
  "metadata": {
    "colab": {
      "collapsed_sections": [],
      "provenance": []
    },
    "kernelspec": {
      "display_name": "Python 3",
      "name": "python3"
    },
    "language_info": {
      "name": "python"
    }
  },
  "nbformat": 4,
  "nbformat_minor": 0
}
